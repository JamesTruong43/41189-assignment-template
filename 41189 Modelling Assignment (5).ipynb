{
 "cells": [
  {
   "cell_type": "markdown",
   "metadata": {
    "toc-hr-collapsed": false
   },
   "source": [
    " **41189 Modelling Assignment — Group 9**\n",
    " \n",
    " Topic: Strategies to contain COVID-19\n",
    " \n",
    " Group members:\n",
    " \n",
    " - James Truong (13868738) \n",
    " - Torben Ungemach\n",
    " - Ali Khalife (12746398)\n",
    " - Harrison Andrew\n",
    " - Lawrence Roqueza (13903570)"
   ]
  },
  {
   "cell_type": "markdown",
   "metadata": {
    "toc-hr-collapsed": false
   },
   "source": [
    "# Introduction"
   ]
  },
  {
   "cell_type": "markdown",
   "metadata": {},
   "source": [
    "## State the problem, why it is important/relevant to you and/or more broadly to society"
   ]
  },
  {
   "cell_type": "markdown",
   "metadata": {},
   "source": [
    "The problem is what strategies can we implement to contain COVID 19, it is important to society as we need to be prepared and aware of what COVID19 is capable of. We are currently dealing with the second wave of cases and we should be ready for what could happen with future waves of cases."
   ]
  },
  {
   "cell_type": "markdown",
   "metadata": {},
   "source": []
  },
  {
   "cell_type": "markdown",
   "metadata": {},
   "source": []
  },
  {
   "cell_type": "markdown",
   "metadata": {
    "toc-hr-collapsed": false
   },
   "source": [
    "# Context, background information, justification"
   ]
  },
  {
   "cell_type": "markdown",
   "metadata": {},
   "source": [
    "## Research and review literature, news, digital media, drivers and how the problem is being addressed by academia, industry, government, etc."
   ]
  },
  {
   "cell_type": "markdown",
   "metadata": {},
   "source": [
    "**ACADEMIA**- During the emergence of the Covid-19 pandemic, the Australian government have responded promptly to implement mitigation strategies among communities. Australian Academic staff have conducted research to examine the attitudes and beliefs of Australian adults towards the pandemic, and willingness and capacity to engage with these mitigation measures. Moreover, academia has also emphasised on the importance of mental health and effects is has, thus placing focus on related services."
   ]
  },
  {
   "cell_type": "markdown",
   "metadata": {},
   "source": [
    "**GENERAL PUBLIC** - Research suggests that members of the public have been inundated with messages about hygiene and social distancing. However, our results indicate that a continued focus on supporting community understanding of the rationale for these strategies, as well as instilling community confidence in their ability to adopt or sustain the recommendations is necessary.  "
   ]
  },
  {
   "cell_type": "markdown",
   "metadata": {},
   "source": [
    "**GOVERNMENT** - After the Government’s decision to ease Covid-19 restrictions placed, majority of this decision with notion to stimulate Australia’s economic status, which has had a decline and stagnant forecasting by the RBA. A number of people have issued worries of a regression or a “second wave”. To combat this threat, the government has encouraged members of the public to wear a mask when one is not able to social distance. "
   ]
  },
  {
   "cell_type": "markdown",
   "metadata": {},
   "source": [
    "## Identify the system + stakeholders. For this, you will need to construct a “rich picture” that captures the essential elements."
   ]
  },
  {
   "cell_type": "markdown",
   "metadata": {},
   "source": [ !Screenshot (306).png
   ]
  },
  {
   "cell_type": "markdown",
   "metadata": {},
   "source": []
  },
  {
   "cell_type": "markdown",
   "metadata": {},
   "source": []
  },
  {
   "cell_type": "markdown",
   "metadata": {},
   "source": [
    "## Identify current models or prevailing frames that are being used to address the problem"
   ]
  },
  {
   "cell_type": "markdown",
   "metadata": {},
   "source": [
    "Broadcast Model"
   ]
  },
  {
   "cell_type": "markdown",
   "metadata": {},
   "source": [
    "Standing Ovation Model is currently being used by people/communites. By providing the choice of wearing face masks."
   ]
  },
  {
   "cell_type": "markdown",
   "metadata": {},
   "source": [
    "The SRI Model is currently being used to determine the spread within a community. This model is based on estimation\n",
    "probability, based on contact, spread, death, recovery and basic reproduction numbers. when calculating the spread of COVID 19,\n",
    "the SRI Model has derived two thresholds which could affects the outcomes of results."
   ]
  },
  {
   "cell_type": "markdown",
   "metadata": {},
   "source": [
    "## Discuss how prevailing models/frames are preventing the problem from being fully addressed or solved"
   ]
  },
  {
   "cell_type": "markdown",
   "metadata": {},
   "source": []
  },
  {
   "cell_type": "markdown",
   "metadata": {},
   "source": []
  },
  {
   "cell_type": "markdown",
   "metadata": {},
   "source": []
  },
  {
   "cell_type": "markdown",
   "metadata": {
    "toc-hr-collapsed": false
   },
   "source": [
    "# Conceptual Models"
   ]
  },
  {
   "cell_type": "markdown",
   "metadata": {},
   "source": [
    "## Based on your self-study of the supermarket of models, explain the three models that you have chosen to look at the problem"
   ]
  },
  {
   "cell_type": "markdown",
   "metadata": {},
   "source": [
    "Standing Ovation Model - Wearing a Mask - The standing ovation model suggests that a large peer effect can occur based purely off of people following the actions of others."
   ]
  },
  {
   "cell_type": "markdown",
   "metadata": {},
   "source": [
    "The SRI model which is used to categorise the population into three groups susceptible, infectious, and removed, people who are considered susceptible are the ones who are not been infected. \n",
    "\n",
    "\n",
    "Susceptible —> Infectious \n",
    "\n",
    "Infectious —> Removed \n",
    "\n",
    "Where the change rate of the removed group at a given time, only depends on the ‘Infectious individuals’ ratio at that given time. \n",
    "\n",
    " "
   ]
  },
  {
   "cell_type": "markdown",
   "metadata": {},
   "source": [
    "The broadcast model captures the spread of ideas, rumours and information through television, radio, social media or internet. It captures the process undertaken by sources such as governments, corporations and newspapers when spreading information."
   ]
  },
  {
   "cell_type": "markdown",
   "metadata": {},
   "source": [
    "## Explain how each of the three models works (brief) and how it will be applied in your case."
   ]
  },
  {
   "cell_type": "markdown",
   "metadata": {},
   "source": [
    "**Standing Ovation**\n",
    "The standing ovation model forces a binary decision-making process where an individual has two options, either join in and adhere to a certain action, or don’t. Individuals are influenced socially by people of various degrees of sophistication who received information via a network. At the centre of this model lies one key explanation: macro behaviour caused by micro motives. \n",
    "\n",
    " \n",
    "\n",
    "Wearing masks is an almost certain way of containing Covid-19. A standing ovation model can be applied because if more people wear masks, the more likely it is that others will too. Analogously, depending on the size and shape of the auditorium, in this case the environment in which someone lives, it will greatly affect the likelihood of deciding to wear a mask. For example, living in the city where there is more variance in social dynamic will lend toward a higher inclination for someone to wear a mask. Conversely, living in a rural area where the community has an overarching, like-minded attitude causes a lower variance and therefore a lower chance of wearing a mask.  \n",
    "\n",
    " \n",
    "\n",
    "Also, the attitude towards Covid-19 will impact the chances of wearing a mask the same way the quality of the performance affects the standing ovation. If everyone took the virus extremely seriously then there would be a very low ‘error function’, which is the judgement of the signal, in this case a worldwide pandemic. The ‘error function’ or error rate, can vary based on attitude, knowledge or education. For example, someone who is stubborn and does not understand the benefits of masks in containing airborne particles will have a high error rate and therefore be unlikely to wear a mask. "
   ]
  },
  {
   "cell_type": "markdown",
   "metadata": {},
   "source": [
    "**SRI Model**\n",
    "In our case study it can be used by stakeholders that we mentioned  several ways and techniques and as government and health organisation struggling in finding a vaccine then a good strategy to containing the spread of COVID-19 is to use available solution to use a ‘Time Dependent SRI model’, by tracking 2 times series with the main purpose to find the undetectable cases of COVID-19 that might help to spread it faster. "
   ]
  },
  {
   "cell_type": "markdown",
   "metadata": {},
   "source": [
    "**Broadcast Model**\n",
    "The broadcast models goal is to increase the amount of informed people each day. Through an array of media outlets, governments and health organisations are able to share health-related information to reduce the number of cases. If no one broadcasted the outbreak of Covid 19, then the actions undertaken by governments, health care systems and health professionals would have resulted in numerous preventable cases and even deaths. Examples of broadcasted information that helped contain the virus are hygiene directions, national and state-wide lockdowns and Covid 19 hotspots that should be avoided.  \n",
    "\n",
    " \n",
    "\n",
    "A negative response can come from broadcasting with the emergence of rumours and fake news. False information of the virus has caused worldwide negligence with rumours that the pandemic is a hoax, that it was manufactured in a lab, that only the elderly can get it and it has even caused attacks towards Chinese people and their culture. Social media platforms are at the forefront of the misleading information and display a portion of the negative side of broadcast models.  \n",
    "\n",
    " \n",
    "\n",
    "Also, television, radio and other media platforms are largely responsible for the alarmism that people have undertaken for example ‘panic buying’ in supermarkets. However, it is this same alarmism that causes people to care about preventing the spread of the pandemic. "
   ]
  },
  {
   "cell_type": "markdown",
   "metadata": {},
   "source": [
    "## Describe any data sources (real or hypothetical) that are needed to construct the three models. Use illustrative drawings and diagrams where possible"
   ]
  },
  {
   "cell_type": "markdown",
   "metadata": {},
   "source": [
    "It is difficult to obtain objective numerical data because this model is based heavily on social pressure.  \n",
    "\n",
    "We can calculate the social pressure via the formula: \n",
    "\n",
    " \n",
    "\n",
    "Social Pressure = [(1-Neighbour weight) x Funnel Pressure] + (Neighbour weight x Neighbour pressure) \n",
    "\n",
    "\n",
    "\n",
    "Neighbour weight = Importance of that person e.g. family, friends, high social status \n",
    "\n",
    "Funnel pressure = How many people the person may see in a given time  \n",
    "\n",
    "Neighbour pressure = How many people wearing masks that the person may see in a given time \n",
    "\n",
    " \n",
    "\n",
    "If the social pressure is larger than a fixed threshold then the person will wear a mask.  "
   ]
  },
  {
   "cell_type": "markdown",
   "metadata": {},
   "source": [
    "The first one is the transmission rate at time (t) if we set (t) as the time measured in days as an independent variable, and the recovering rate (t), using data provided from the health department we can ensure that the prediction errors per day have decreased and the total predicted number of COVID confirmed cases is predicted more precise.  \n",
    "\n",
    "Turning Point:  \n",
    "\n",
    "For example, where we can precisely predict how (Transmission Rate/day < Recovering Rate/day) and then (reproduction no. will be less than 1) R0 < 1 \n",
    "\n",
    " \n",
    "\n",
    "Also another example going further with the SIR model we can consider a population N, if a person gets infected then this person becomes ‘infectious’ immediately and has to remain for certain time known as ‘decay rate’ of (Y) (The Removal Rate). And in reverse the (Y^-1) is the average infectious days taken by the ‘infictious person’ to transmit the virus to the group before the virus is being removed, the parameter known as (B) is the ‘effective contact rate, presenting the average number product of exposures per time unit (T), and (u) the likelihood infection on every exposure occasion. \n",
    "\n",
    " \n",
    "\n",
    "(B) = (T) X (U) \n",
    "\n",
    " \n",
    "\n",
    "Considering the same closed population (N) in the above scenario, with the below representations \n",
    "\n",
    " \n",
    "\n",
    "S(t) : susceptible  \n",
    "\n",
    "I(t): Infectious \n",
    "\n",
    "R(t): Removed \n",
    "\n",
    " \n",
    "\n",
    "We can assume the total population at time (t) is as follows:  \n",
    "\n",
    " \n",
    "\n",
    "N(t) = S(t) + I(t) + R(t) \n",
    "\n",
    " \n",
    "\n",
    "Again assuming that the epidemic start point we had (S(0), I(0), R(0))= (N-1, 1, 0) which means that in the N population there is one ‘Infectious Individual’ with ‘No Removal’ then the number of ‘Susceptible Individuals’ will decrease symmetrically by:  \n",
    "\n",
    " \n",
    "\n",
    "D(S)/D(t) = B *  [  S(t). I(t) / N)  ]. "
   ]
  },
  {
   "cell_type": "markdown",
   "metadata": {},
   "source": [
    "We can link a number of models when ‘Broadcasting’ communicates about COVID-19, such models can be used to announce some strategies to control the spread of this virus as well as to quantify people’s role responding to the outbreak to take protective actions;  \n",
    "\n",
    "  \n",
    "\n",
    "  \n",
    "\n",
    "There are two cases here its when MEDIA:  \n",
    "\n",
    "  \n",
    "\n",
    "Increases attention on the virus impact and self-protection procedures. \n",
    "\n",
    "Decreases its attention on the virus impact and self-protection procedures. \n",
    "\n",
    "  \n",
    "\n",
    "  \n",
    "\n",
    "Choice (a) applies in our case study and this is from what we experienced as well , as when media increased the attention on the outbreak by alerting on increasing the use of Hygiene and self-protection procedures, this has generated large interest and created awareness to people on how to practice social distancing, waring face masks, washing hands, and using hygiene.  \n",
    "\n",
    "  \n",
    "\n",
    "  \n",
    "\n",
    "in our case study if we divide the population (Npop) into two groups of people, those who are infected and informed about the infection denoted by (It) and (St) who are the remaining people know as the susceptible people =>  Npop = It+ St. \n",
    "\n",
    " So media can play a crucial role containing the virus, especially when the probability of the increasing or decreasing the spread is affected by (Broadcasting) or the media coverage and here comes the equation of the informed people at a given time gives us (the number informed people in the previous period) + (the probability that a susceptible person hears of the information multiplying it by (the number of susceptible people): \n",
    "\n",
    "  \n",
    "\n",
    "  \n",
    "\n",
    "It+1 = It+ (Pbroad .St) \n",
    "\n",
    "  \n",
    "\n",
    "So estimating the population size if applying this formula using an example of a city of 1 million residents, in the second day of the virus spread, and the media announces the first day, the number of informed people of the first people might reach 400,000 (40%) and the probability that a susceptible person hears of the information will be (20%) 300,000 and the actual susceptible people was 10% (100,000), as seen the number of informed people will increase over time according to the equation  \n",
    "\n",
    "  \n",
    "\n",
    "  \n",
    "\n",
    "Modelling data from the broadcast:  \n",
    "\n",
    "Period 1: I1 = 400,000 = Pbroad · Npop \n",
    "\n",
    "Period 2: I2 = 700,000 = 400,000 + Pbroad · (Npop – 400,000) "
   ]
  },
  {
   "cell_type": "markdown",
   "metadata": {
    "toc-hr-collapsed": false
   },
   "source": [
    "# Implementation"
   ]
  },
  {
   "cell_type": "markdown",
   "metadata": {},
   "source": [
    "## Describe the mathematical and/or statistical implementation of your three models. This should be done using Python code."
   ]
  },
  {
   "cell_type": "markdown",
   "metadata": {},
   "source": []
  },
  {
   "cell_type": "markdown",
   "metadata": {},
   "source": []
  },
  {
   "cell_type": "markdown",
   "metadata": {},
   "source": []
  },
  {
   "cell_type": "markdown",
   "metadata": {
    "toc-hr-collapsed": false
   },
   "source": [
    "# Scenario analysis, sensitivity + uncertainty evaluation"
   ]
  },
  {
   "cell_type": "markdown",
   "metadata": {},
   "source": [
    "## Establish baseline parameter sets and or configuration for output scenarios"
   ]
  },
  {
   "cell_type": "markdown",
   "metadata": {},
   "source": []
  },
  {
   "cell_type": "markdown",
   "metadata": {},
   "source": []
  },
  {
   "cell_type": "markdown",
   "metadata": {},
   "source": []
  },
  {
   "cell_type": "markdown",
   "metadata": {},
   "source": [
    "## Perform a basic sensitivity analysis, i.e., identify with parameters are most sensitive/insensitive for the outputs"
   ]
  },
  {
   "cell_type": "markdown",
   "metadata": {},
   "source": []
  },
  {
   "cell_type": "markdown",
   "metadata": {},
   "source": []
  },
  {
   "cell_type": "markdown",
   "metadata": {},
   "source": []
  },
  {
   "cell_type": "markdown",
   "metadata": {
    "toc-hr-collapsed": false
   },
   "source": [
    "# Proposed solutions"
   ]
  },
  {
   "cell_type": "markdown",
   "metadata": {},
   "source": [
    "## Discuss potential portfolio of solutions based on your previous analysis\n"
   ]
  },
  {
   "cell_type": "markdown",
   "metadata": {},
   "source": []
  },
  {
   "cell_type": "markdown",
   "metadata": {},
   "source": []
  },
  {
   "cell_type": "markdown",
   "metadata": {},
   "source": []
  },
  {
   "cell_type": "markdown",
   "metadata": {
    "toc-hr-collapsed": false
   },
   "source": [
    "# Reflection on group + individual approach to assignment"
   ]
  },
  {
   "cell_type": "markdown",
   "metadata": {},
   "source": [
    "## Each student should discuss their experiences about working on the project. The document should be no more than 1000 words per group member. It should discuss following key aspects:\n",
    "\n",
    "- Your contribution in the project\n",
    "- Other group members’ contributions\n",
    "- What positives do you take from this project? What did you learn from this project?\n",
    "- What challenges did you face in this project and how you overcame those?\n",
    "- If you are faced with dealing with a real-world problem and need to do some modelling, how would you determine which modelling approach to take. Justify your response."
   ]
  },
  {
   "cell_type": "markdown",
   "metadata": {},
   "source": [
    "### Group member 1 reflection"
   ]
  },
  {
   "cell_type": "markdown",
   "metadata": {},
   "source": []
  },
  {
   "cell_type": "markdown",
   "metadata": {},
   "source": [
    "### Group member 2 reflection"
   ]
  },
  {
   "cell_type": "markdown",
   "metadata": {},
   "source": []
  },
  {
   "cell_type": "markdown",
   "metadata": {},
   "source": [
    "### Group member 3 reflection"
   ]
  },
  {
   "cell_type": "markdown",
   "metadata": {},
   "source": []
  },
  {
   "cell_type": "markdown",
   "metadata": {},
   "source": [
    "### Group member 4 reflection"
   ]
  },
  {
   "cell_type": "markdown",
   "metadata": {},
   "source": []
  }
 ],
 "metadata": {
  "kernelspec": {
   "display_name": "Python 3",
   "language": "python",
   "name": "python3"
  },
  "language_info": {
   "codemirror_mode": {
    "name": "ipython",
    "version": 3
   },
   "file_extension": ".py",
   "mimetype": "text/x-python",
   "name": "python",
   "nbconvert_exporter": "python",
   "pygments_lexer": "ipython3",
   "version": "3.8.3"
  },
  "toc-autonumbering": true
 },
 "nbformat": 4,
 "nbformat_minor": 4
}
